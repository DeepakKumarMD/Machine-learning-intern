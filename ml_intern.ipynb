{
 "cells": [
  {
   "cell_type": "markdown",
   "id": "85881e01",
   "metadata": {},
   "source": [
    "# Write a python function which should be capable of finding the factorial of any given number as an argument."
   ]
  },
  {
   "cell_type": "code",
   "execution_count": 1,
   "id": "ab68276c",
   "metadata": {},
   "outputs": [
    {
     "name": "stdout",
     "output_type": "stream",
     "text": [
      "120\n"
     ]
    }
   ],
   "source": [
    "def fact (n):\n",
    "  fact=1\n",
    "  for i in range(1,n+1):\n",
    "      fact=fact*i\n",
    "  return fact\n",
    "\n",
    "print(fact (5))\n"
   ]
  },
  {
   "cell_type": "markdown",
   "id": "961296e9",
   "metadata": {},
   "source": [
    "# . Luke Skywalker has family and friends. Help him remind them who is who. Given a string with a name, return the relation of that person to Luke.\n"
   ]
  },
  {
   "cell_type": "code",
   "execution_count": 2,
   "id": "a1aa2feb",
   "metadata": {},
   "outputs": [
    {
     "name": "stdout",
     "output_type": "stream",
     "text": [
      "Luke, I am your father\n"
     ]
    }
   ],
   "source": [
    "def relations_of_luke(name):\n",
    "    relation={'Darth Vader':'father','Lela':'sister','Han':'brother in law','R2D2':'droid'}\n",
    "    return relation[name]\n",
    "\n",
    "print(\"Luke, I am your \"+ relations_of_luke('Darth Vader'))\n"
   ]
  },
  {
   "cell_type": "markdown",
   "id": "7439a73c",
   "metadata": {},
   "source": [
    "#  Create a function which takes a number as its argument and return the number of digits in it. Use of len function is not allowed. For example for 5 it should return 1, for 32 it should return 2 and 123 ,3 should be returned and so on"
   ]
  },
  {
   "cell_type": "code",
   "execution_count": 3,
   "id": "c90b3ec3",
   "metadata": {},
   "outputs": [
    {
     "name": "stdout",
     "output_type": "stream",
     "text": [
      "Enter the number 456\n",
      "Number of digits is  3\n"
     ]
    }
   ],
   "source": [
    "def number_of_digits(n):\n",
    "  c=0\n",
    "  while n != 0:\n",
    "    n //= 10\n",
    "    c += 1\n",
    "  return c   \n",
    "number = int(input(\"Enter the number \"))\n",
    "print('Number of digits is ',number_of_digits(number))\n"
   ]
  },
  {
   "cell_type": "markdown",
   "id": "ecec28ba",
   "metadata": {},
   "source": [
    "# Write a function which takes a number as argument suppose 5 and gives results as multiplication of factorial of each positive number less than or equal to the number given. i.e !5*!4*!3*!2*!1 =34560"
   ]
  },
  {
   "cell_type": "code",
   "execution_count": 5,
   "id": "46362107",
   "metadata": {},
   "outputs": [
    {
     "name": "stdout",
     "output_type": "stream",
     "text": [
      "34560\n"
     ]
    }
   ],
   "source": [
    "def fact (num):\n",
    "  fact=1\n",
    "  for i in range(1,num+1):\n",
    "      fact=fact*i\n",
    "  return fact\n",
    "\n",
    "def multiply_fact(num):\n",
    "    temp=num\n",
    "    res=1\n",
    "    while(temp>0):\n",
    "        curr_fact=fact(temp)\n",
    "        res=res*curr_fact\n",
    "        temp-=1\n",
    "    return res\n",
    "\n",
    "print(multiply_fact(5))\n"
   ]
  },
  {
   "cell_type": "markdown",
   "id": "1b2a3b73",
   "metadata": {},
   "source": [
    "# Write a function which takes any number of arguments from a user and return the result which should be output of a2 + b2+ c2+… if a , b ,c are numbers supplied ..i.e if 1,2,3 are supplied then result returned should be 14. But user may supply any number of inputs so make the function to adapt to that"
   ]
  },
  {
   "cell_type": "code",
   "execution_count": 7,
   "id": "44f9718e",
   "metadata": {},
   "outputs": [
    {
     "data": {
      "text/plain": [
       "14"
      ]
     },
     "execution_count": 7,
     "metadata": {},
     "output_type": "execute_result"
    }
   ],
   "source": [
    "def no_of_arg(*nums):\n",
    "    ans=0\n",
    "    for num in nums:\n",
    "        ans += num * num\n",
    "    return ans\n",
    "\n",
    "no_of_arg(1,2,3)\n"
   ]
  },
  {
   "cell_type": "markdown",
   "id": "fc633395",
   "metadata": {},
   "source": [
    "# .Write a function which accepts 3 arguments from the user.1 .number 1, 2. Number2 and 3. An operation. The operation supported should be +, -, *, and /. The function should return the result ofgiven operation. For example arguments are 3,2,+ then result returned should be 5"
   ]
  },
  {
   "cell_type": "code",
   "execution_count": 8,
   "id": "5002dfca",
   "metadata": {},
   "outputs": [
    {
     "name": "stdout",
     "output_type": "stream",
     "text": [
      "Enter the 1st value 14\n",
      "Enter the 2nd value 6\n",
      "Enter the operator +\n",
      "Answer  20\n"
     ]
    }
   ],
   "source": [
    "def operation(num1,num2,ope):\n",
    "  if ope=='+':\n",
    "    return num1+num2\n",
    "  elif ope=='-':\n",
    "    return num1-num2\n",
    "  elif ope=='*':\n",
    "    return num1*num2\n",
    "  elif ope=='/':\n",
    "    return num1/num2\n",
    "  else:\n",
    "    return \"enter a valid operation !\"\n",
    "\n",
    "a = int(input(\"Enter the 1st value \"))\n",
    "b = int(input(\"Enter the 2nd value \"))\n",
    "operator = input(\"Enter the operator \")\n",
    "print('Answer ',operation(a,b,operator))\n"
   ]
  },
  {
   "cell_type": "markdown",
   "id": "83edc788",
   "metadata": {},
   "source": [
    "# Write a function which takes an argument which should be a numeric +ve integer. Depending on the input supplied you have to print “I CAN”, “I WILL”. Suppose some one enters argument as 1 then only “I CAN” should be printed. But if some one enters 2 then first “I CAN” should be printed then “I WILL”. And if someone enters 3 then following should be printed in corresponding order: “I CAN”, “I WILL”, “I CAN” and so on for any numbers entered.\n"
   ]
  },
  {
   "cell_type": "code",
   "execution_count": 9,
   "id": "b5a5e028",
   "metadata": {},
   "outputs": [
    {
     "name": "stdout",
     "output_type": "stream",
     "text": [
      "I CAN I WILL I CAN I WILL I CAN "
     ]
    }
   ],
   "source": [
    "\n",
    "def i_can_i_will(num):\n",
    "    temp=num\n",
    "    a=0\n",
    "    while(temp>0):\n",
    "        if(a==0):\n",
    "            print(\"I CAN\",end=' ')\n",
    "            a=1\n",
    "        else:\n",
    "            print(\"I WILL\",end=' ')\n",
    "            a=0\n",
    "        temp-=1\n",
    "\n",
    "i_can_i_will(5)\n"
   ]
  },
  {
   "cell_type": "markdown",
   "id": "51505a1e",
   "metadata": {},
   "source": [
    "# We have been given a list of whole numbers which represents the color of each gloves, determine how many pairs of gloves with matching colors there are. For example, there are 7 gloves with colors [1, 2, 1, 2, 1, 3, 2]. There is one pair of color 1 and one of color 2. There are three odd gloves left, one of each color. The number of pairs is 2. Create a function that returns an integer representing the number of matching pairs of gloves that are available."
   ]
  },
  {
   "cell_type": "code",
   "execution_count": 11,
   "id": "9fb6fe7b",
   "metadata": {},
   "outputs": [
    {
     "name": "stdout",
     "output_type": "stream",
     "text": [
      "2\n"
     ]
    }
   ],
   "source": [
    "pairs=0 \n",
    "lst = [1, 2, 1, 2, 1, 3, 2]\n",
    "lst.sort()\n",
    "i = 0\n",
    "while i < (len(lst)-1):\n",
    "  if (lst[i] == lst[i + 1]):\n",
    "    pairs += 1\n",
    "    i = i + 2\n",
    "  else:\n",
    "    i += 1\n",
    "\n",
    "print(pairs)\n"
   ]
  },
  {
   "cell_type": "markdown",
   "id": "71814205",
   "metadata": {},
   "source": [
    "# Write a function that returns True if two arrays, when combined, form a consecutive sequence. A consecutive sequence is a sequence without any gaps in the integers, e.g. 1, 2, 3, 4, 5 is a consecutive sequence, but 1, 2, 4, 5 is not"
   ]
  },
  {
   "cell_type": "code",
   "execution_count": 13,
   "id": "2ef6dcb1",
   "metadata": {},
   "outputs": [
    {
     "name": "stdout",
     "output_type": "stream",
     "text": [
      "True\n"
     ]
    }
   ],
   "source": [
    "lst1 = [7, 4, 5, 1]\n",
    "lst2 = [2, 3, 6]\n",
    "final_lst = lst1+lst2\n",
    "\n",
    "def Consecutive(l):\n",
    "    return sorted(l) == list(range(min(l), max(l)+1))\n",
    "\n",
    "print(Consecutive(final_lst))\n"
   ]
  },
  {
   "cell_type": "markdown",
   "id": "736e34d8",
   "metadata": {},
   "source": [
    "# You work for a manufacturer, and have been asked to calculate the total profit made on the sales of a product. You are given a dictionary containing the cost price per unit (in dollars), sell price per unit (in dollars), and the starting inventory. Return the total profit made, rounded to the nearestdollar.\n"
   ]
  },
  {
   "cell_type": "code",
   "execution_count": 15,
   "id": "ac955e1f",
   "metadata": {},
   "outputs": [
    {
     "name": "stdout",
     "output_type": "stream",
     "text": [
      "14796\n"
     ]
    }
   ],
   "source": [
    "d = {\n",
    "    \"cost_price\":'32.67',\n",
    "     \"sell_price\":'45.00',\n",
    "     \"inventory\":'1200'\n",
    "}\n",
    "print (round((float(d['sell_price'])-float(d['cost_price']))*float(d['inventory'])))\n",
    "\n"
   ]
  }
 ],
 "metadata": {
  "kernelspec": {
   "display_name": "Python 3 (ipykernel)",
   "language": "python",
   "name": "python3"
  },
  "language_info": {
   "codemirror_mode": {
    "name": "ipython",
    "version": 3
   },
   "file_extension": ".py",
   "mimetype": "text/x-python",
   "name": "python",
   "nbconvert_exporter": "python",
   "pygments_lexer": "ipython3",
   "version": "3.8.4"
  }
 },
 "nbformat": 4,
 "nbformat_minor": 5
}
